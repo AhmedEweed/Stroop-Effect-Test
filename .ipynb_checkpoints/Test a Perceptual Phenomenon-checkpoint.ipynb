{
 "cells": [
  {
   "cell_type": "markdown",
   "metadata": {},
   "source": [
    "### Analyzing the Stroop Effect\n",
    "\n",
    "\n",
    "\n",
    "(1) What is the independent variable? What is the dependent variable?"
   ]
  },
  {
   "cell_type": "markdown",
   "metadata": {},
   "source": [
    "The dependent variable is Duration (in seconds) to recognize color and text and  \n",
    "\n",
    "The independent variable is the Congruency of the color and text"
   ]
  },
  {
   "cell_type": "markdown",
   "metadata": {},
   "source": [
    "(2) What is an appropriate set of hypotheses for this task?\n"
   ]
  },
  {
   "cell_type": "markdown",
   "metadata": {},
   "source": [
    "The Null Hypotheses or H<sub>0</sub>  \n",
    "is that the means of the populations from which the two samples were taken are equal\n",
    "\n",
    "like this:  \n",
    "H<sub>0</sub>:  \n",
    "    m<sub>1</sub> = m<sub>2</sub>\n",
    "\n",
    "\n",
    "The Alternative Hypotheses or H<sub>1</sub>  \n",
    "is that the means of the populations from which the two samples were taken are not equal\n",
    "\n",
    "like that:  \n",
    "H<sub>1</sub>: m<sub>1</sub> != m<sub>2</sub>\n",
    "\n",
    "where  \n",
    "m<sub>1</sub> is the first test mean (Congruent) and  \n",
    "m<sub>2</sub> is the second test mean (Incongruent)  \n",
    "\n",
    "we will perform a paired t-test because the two groups are dependent,  \n",
    "actually they are the same people making two different tests  \n",
    "and also because the sample size is small (24 observations)  \n",
    "and the poplation mean and standard deviation is missing  \n",
    "that's a good reason for not using a Z-test for instance.  \n",
    "\n",
    "Assumptions:  \n",
    "\n",
    "1- the distribution of the samples means is normal  \n",
    "2- the samples are randomly chosen and pairs withen the sample are independent"
   ]
  },
  {
   "cell_type": "markdown",
   "metadata": {},
   "source": [
    "(3) Report some descriptive statistics regarding this dataset. Include at least one measure of central tendency and at least one measure of variability. The name of the data file is 'stroopdata.csv'."
   ]
  },
  {
   "cell_type": "code",
   "execution_count": 2,
   "metadata": {},
   "outputs": [
    {
     "data": {
      "text/html": [
       "<div>\n",
       "<style scoped>\n",
       "    .dataframe tbody tr th:only-of-type {\n",
       "        vertical-align: middle;\n",
       "    }\n",
       "\n",
       "    .dataframe tbody tr th {\n",
       "        vertical-align: top;\n",
       "    }\n",
       "\n",
       "    .dataframe thead th {\n",
       "        text-align: right;\n",
       "    }\n",
       "</style>\n",
       "<table border=\"1\" class=\"dataframe\">\n",
       "  <thead>\n",
       "    <tr style=\"text-align: right;\">\n",
       "      <th></th>\n",
       "      <th>Congruent</th>\n",
       "      <th>Incongruent</th>\n",
       "    </tr>\n",
       "  </thead>\n",
       "  <tbody>\n",
       "    <tr>\n",
       "      <th>count</th>\n",
       "      <td>24.000000</td>\n",
       "      <td>24.000000</td>\n",
       "    </tr>\n",
       "    <tr>\n",
       "      <th>mean</th>\n",
       "      <td>14.051125</td>\n",
       "      <td>22.015917</td>\n",
       "    </tr>\n",
       "    <tr>\n",
       "      <th>std</th>\n",
       "      <td>3.559358</td>\n",
       "      <td>4.797057</td>\n",
       "    </tr>\n",
       "    <tr>\n",
       "      <th>min</th>\n",
       "      <td>8.630000</td>\n",
       "      <td>15.687000</td>\n",
       "    </tr>\n",
       "    <tr>\n",
       "      <th>25%</th>\n",
       "      <td>11.895250</td>\n",
       "      <td>18.716750</td>\n",
       "    </tr>\n",
       "    <tr>\n",
       "      <th>50%</th>\n",
       "      <td>14.356500</td>\n",
       "      <td>21.017500</td>\n",
       "    </tr>\n",
       "    <tr>\n",
       "      <th>75%</th>\n",
       "      <td>16.200750</td>\n",
       "      <td>24.051500</td>\n",
       "    </tr>\n",
       "    <tr>\n",
       "      <th>max</th>\n",
       "      <td>22.328000</td>\n",
       "      <td>35.255000</td>\n",
       "    </tr>\n",
       "  </tbody>\n",
       "</table>\n",
       "</div>"
      ],
      "text/plain": [
       "       Congruent  Incongruent\n",
       "count  24.000000    24.000000\n",
       "mean   14.051125    22.015917\n",
       "std     3.559358     4.797057\n",
       "min     8.630000    15.687000\n",
       "25%    11.895250    18.716750\n",
       "50%    14.356500    21.017500\n",
       "75%    16.200750    24.051500\n",
       "max    22.328000    35.255000"
      ]
     },
     "execution_count": 2,
     "metadata": {},
     "output_type": "execute_result"
    }
   ],
   "source": [
    "# the analysis goes here\n",
    "import pandas as pd\n",
    "import numpy as np\n",
    "from scipy import stats\n",
    "import matplotlib.pyplot as plt\n",
    "df = pd.read_csv(\"stroopdata.csv\")\n",
    "df.describe()"
   ]
  },
  {
   "cell_type": "markdown",
   "metadata": {},
   "source": [
    "We can see that the mean for Test1 (14.05) is less than that for Test2 (22.01)  \n",
    "That is, Test2 takes longer time than Test1 on average  \n",
    "\n",
    "also the median points are (14.35) and (21.01) for Test1 and Test2 respectively  \n",
    "We can see here that the mean is very close to the median in both tests  \n",
    "that is, this is a symmetric normal distribution and we will make sure of this in the plot section  \n",
    "\n",
    "As for the standard deviation, it is (3.55) and (4.79) for Test1 and Test2 respectively  \n",
    "Test2 results is a little more spreaded than Test1  \n",
    "I think that is because in Test1 human nature is the same for percepting word written in the same color  \n",
    "but percepting an Incongruent word and ink color can be harder and not every one will respond the same  \n"
   ]
  },
  {
   "cell_type": "markdown",
   "metadata": {},
   "source": [
    "(4) Provide one or two visualizations that show the distribution of the sample data. Write one or two sentences noting what you observe about the plot or plots."
   ]
  },
  {
   "cell_type": "code",
   "execution_count": 3,
   "metadata": {},
   "outputs": [
    {
     "data": {
      "image/png": "[encoded data removed]",
      "text/plain": [
       "<matplotlib.figure.Figure at 0x7f4970ca6b38>"
      ]
     },
     "metadata": {},
     "output_type": "display_data"
    },
    {
     "data": {
      "image/png": "[encoded data removed]",
      "text/plain": [
       "<matplotlib.figure.Figure at 0x7f49698529e8>"
      ]
     },
     "metadata": {},
     "output_type": "display_data"
    }
   ],
   "source": [
    "# Build the visualizations here\n",
    "% matplotlib inline\n",
    "\n",
    "plt.plot(df[\"Congruent\"])\n",
    "plt.title(\"Test1 Results\")\n",
    "plt.show()\n",
    "\n",
    "plt.plot(df[\"Incongruent\"])\n",
    "plt.title(\"Test2 Results\")\n",
    "plt.show()\n"
   ]
  },
  {
   "cell_type": "markdown",
   "metadata": {},
   "source": [
    "The minimal time for Test2 is higher and reaches almost (15.5) seconds  \n",
    "While the minimal time for Test1 is at (8.5) seconds  \n",
    "That means minimum time almost doubled when the word condition changed  \n",
    "and that tells us about the effect of this change on perception"
   ]
  },
  {
   "cell_type": "markdown",
   "metadata": {},
   "source": [
    "(5)  Now, perform the statistical test and report your results.\n",
    "\n",
    "What is your confidence level or Type I error associated with your test?\n",
    "\n",
    "What is your conclusion regarding the hypotheses you set up?\n",
    "\n",
    "Did the results match up with your expectations?"
   ]
  },
  {
   "cell_type": "code",
   "execution_count": 4,
   "metadata": {},
   "outputs": [
    {
     "data": {
      "text/plain": [
       "Ttest_relResult(statistic=-8.020706944109957, pvalue=4.1030005857111781e-08)"
      ]
     },
     "execution_count": 4,
     "metadata": {},
     "output_type": "execute_result"
    }
   ],
   "source": [
    "# Perform the statistical test here\n",
    "T_test = stats.ttest_rel(df[\"Congruent\"], df[\"Incongruent\"])\n",
    "T_test"
   ]
  },
  {
   "cell_type": "markdown",
   "metadata": {},
   "source": [
    "As we can see, the p-value is too small and definitely is less than 0.05  \n",
    "Hence, we will reject the Null hypotheses since the p-vale tells us that there is significant difference in means  \n",
    "and as a result, there is significant change happened in perception when the word condition changed\n",
    "\n"
   ]
  },
  {
   "cell_type": "markdown",
   "metadata": {},
   "source": [
    "(6) Optional: What do you think is responsible for the effects observed?\n",
    "\n",
    "Can you think of an alternative or similar task that would result in a similar effect? \n",
    "\n",
    "Some research about the problem will be helpful for thinking about these two questions!"
   ]
  },
  {
   "cell_type": "markdown",
   "metadata": {},
   "source": [
    "I think it's human nature. our brains is trained to do regular jobs faster and without thinking  \n",
    "and here a regular job is naming the color of a word when the word is written in the same color  \n",
    "but an unusual job and mixing things up make our brains take more time to process the new and unusual situation  \n",
    "\n",
    "A similar task that would result in similar effect i think is when you read a sentence in reverse  \n"
   ]
  },
  {
   "cell_type": "code",
   "execution_count": null,
   "metadata": {},
   "outputs": [],
   "source": []
  }
 ],
 "metadata": {
  "kernelspec": {
   "display_name": "Python [default]",
   "language": "python",
   "name": "python3"
  },
  "language_info": {
   "codemirror_mode": {
    "name": "ipython",
    "version": 3
   },
   "file_extension": ".py",
   "mimetype": "text/x-python",
   "name": "python",
   "nbconvert_exporter": "python",
   "pygments_lexer": "ipython3",
   "version": "3.6.4"
  }
 },
 "nbformat": 4,
 "nbformat_minor": 2
}
